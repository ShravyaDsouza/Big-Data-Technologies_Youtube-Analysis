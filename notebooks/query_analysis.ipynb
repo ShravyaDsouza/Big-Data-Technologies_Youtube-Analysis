{
 "cells": [
  {
   "cell_type": "markdown",
   "id": "ca2f2579-dcbf-4a19-8323-8ae08138e557",
   "metadata": {},
   "source": [
    "# **Apache Spark**"
   ]
  },
  {
   "cell_type": "code",
   "execution_count": null,
   "id": "a3384a89-3df3-4ca9-9e67-0f7d259904cf",
   "metadata": {},
   "outputs": [],
   "source": [
    "from pyspark.sql import SparkSession\n",
    "from pyspark.sql.types import StructType, StructField, StringType, FloatType\n",
    "import time"
   ]
  },
  {
   "cell_type": "code",
   "execution_count": null,
   "id": "53efff1e-7584-4551-9ba3-d7a661060f00",
   "metadata": {},
   "outputs": [],
   "source": [
    "schema = StructType([\n",
    "    StructField(\"video_id\", StringType(), True),\n",
    "    StructField(\"uploader\", StringType(), True),\n",
    "    StructField(\"age\", FloatType(), True),\n",
    "    StructField(\"category\", StringType(), True),\n",
    "    StructField(\"length\", FloatType(), True),\n",
    "    StructField(\"views\", FloatType(), True),\n",
    "    StructField(\"rating\", FloatType(), True),\n",
    "    StructField(\"ratings_count\", FloatType(), True),\n",
    "    StructField(\"comments_count\", FloatType(), True),\n",
    "    StructField(\"related_videos\", StringType(), True) \n",
    "])"
   ]
  },
  {
   "cell_type": "code",
   "execution_count": null,
   "id": "47dce053-5316-40a5-92f4-991022b3fd39",
   "metadata": {},
   "outputs": [],
   "source": [
    "spark = SparkSession.builder \\\n",
    "    .appName(\"YouTube Analysis\") \\\n",
    "    .getOrCreate()"
   ]
  },
  {
   "cell_type": "code",
   "execution_count": null,
   "id": "d7ed6381-641d-45ad-83d7-854d1801c62a",
   "metadata": {},
   "outputs": [],
   "source": [
    "df = spark.read.csv(\"hdfs://localhost:9000/hdfs/path/Hive/merged_youtube_data\", \n",
    "                     header=False,  \n",
    "                     schema=schema, \n",
    "                     sep=\"\\t\")"
   ]
  },
  {
   "cell_type": "code",
   "execution_count": null,
   "id": "54b840b1-8bb0-403c-a929-ecf6b6b9f444",
   "metadata": {},
   "outputs": [],
   "source": [
    "df.printSchema()"
   ]
  },
  {
   "cell_type": "markdown",
   "id": "81ea26f7-4940-4b36-857b-73f0493a76b3",
   "metadata": {},
   "source": [
    "### **Videos with High Views but Low Ratings**"
   ]
  },
  {
   "cell_type": "code",
   "execution_count": null,
   "id": "5d1b6844-d4a9-4cfc-9954-d258732fc772",
   "metadata": {},
   "outputs": [],
   "source": [
    "high_views_threshold = 10000 \n",
    "low_ratings_threshold = 3.0\n",
    "high_views_low_ratings_df = df.filter((df.views > high_views_threshold) & (df.rating < low_ratings_threshold))"
   ]
  },
  {
   "cell_type": "code",
   "execution_count": null,
   "id": "7ca88e9f-9bb4-43b5-a017-bcfd9fd1a233",
   "metadata": {},
   "outputs": [],
   "source": [
    "start_time = time.time()\n",
    "high_views_low_ratings_df = high_views_low_ratings_df.select(\"video_id\", \"uploader\", \"views\", \"rating\")\n",
    "end_time = time.time()"
   ]
  },
  {
   "cell_type": "code",
   "execution_count": null,
   "id": "4ba6b773-fbef-4734-af4c-671fba44065e",
   "metadata": {},
   "outputs": [],
   "source": [
    "high_views_low_ratings_df.show(truncate=False)"
   ]
  },
  {
   "cell_type": "code",
   "execution_count": null,
   "id": "0cbda1fb-d883-4124-88d6-06abe29988b3",
   "metadata": {},
   "outputs": [],
   "source": [
    "execution_time = end_time - start_time\n",
    "print(f\"Execution time for the operation: {execution_time} seconds\")"
   ]
  },
  {
   "cell_type": "code",
   "execution_count": null,
   "id": "d3b9fd33-c3ec-4abe-9cfd-ce9497212d75",
   "metadata": {},
   "outputs": [],
   "source": [
    "high_views_low_ratings_df.write.csv(\"hdfs://localhost:9000/hdfs/path/Spark/high_views_low_ratings\", \n",
    "                                     header=True, \n",
    "                                     mode=\"overwrite\")"
   ]
  },
  {
   "cell_type": "markdown",
   "id": "1b97f515-54e8-40e3-a29b-dcac50709f42",
   "metadata": {},
   "source": [
    "### **Average Video Length by Category**"
   ]
  },
  {
   "cell_type": "code",
   "execution_count": null,
   "id": "dc05d0ad-188f-494a-bb8a-6a8d3530c436",
   "metadata": {},
   "outputs": [],
   "source": [
    "start_time = time.time()\n",
    "average_length_df = df.groupBy(\"category\").agg({\"length\": \"avg\"}).withColumnRenamed(\"avg(length)\", \"average_length\")\n",
    "end_time = time.time()"
   ]
  },
  {
   "cell_type": "code",
   "execution_count": null,
   "id": "5cdfd6ce-6259-4ddb-8339-4a8a76e458ff",
   "metadata": {},
   "outputs": [],
   "source": [
    "average_length_df.show(truncate=False)"
   ]
  },
  {
   "cell_type": "code",
   "execution_count": null,
   "id": "1ddb2342-90f0-4791-b49f-d18cc6254d39",
   "metadata": {},
   "outputs": [],
   "source": [
    "execution_time = end_time - start_time\n",
    "print(f\"Execution time for the operation: {execution_time} seconds\")"
   ]
  },
  {
   "cell_type": "code",
   "execution_count": null,
   "id": "2d050d9b-dd5c-40a8-b2c6-57167d1d0545",
   "metadata": {},
   "outputs": [],
   "source": [
    "average_length_df.write.csv(\"hdfs://localhost:9000/hdfs/path/Spark/avg_video_length_by_category\", \n",
    "                             header=True, \n",
    "                             mode=\"overwrite\") "
   ]
  },
  {
   "cell_type": "markdown",
   "id": "245ebde9-c5b1-4c1c-b844-191d78259178",
   "metadata": {},
   "source": [
    "### **Average Rating by Category**"
   ]
  },
  {
   "cell_type": "code",
   "execution_count": null,
   "id": "a82e7ff3-a488-496f-ba83-9950d15b42a5",
   "metadata": {},
   "outputs": [],
   "source": [
    "start_time = time.time()\n",
    "average_rating_df = df.groupBy(\"category\").agg({\"rating\": \"avg\"}) \\\n",
    "    .withColumnRenamed(\"avg(rating)\", \"average_rating\")\n",
    "end_time = time.time()"
   ]
  },
  {
   "cell_type": "code",
   "execution_count": null,
   "id": "0e21a6a1-71bc-44e6-86c9-521c7838fc38",
   "metadata": {},
   "outputs": [],
   "source": [
    "average_rating_df.show(truncate=False)"
   ]
  },
  {
   "cell_type": "code",
   "execution_count": null,
   "id": "9204b8be-4433-4294-b2b3-f206f63295cd",
   "metadata": {},
   "outputs": [],
   "source": [
    "execution_time = end_time - start_time\n",
    "print(f\"Execution time for the operation: {execution_time} seconds\")"
   ]
  },
  {
   "cell_type": "code",
   "execution_count": null,
   "id": "33aa88be-7d92-4080-ba37-6a159a203982",
   "metadata": {},
   "outputs": [],
   "source": [
    "average_rating_df.write.csv(\"hdfs://localhost:9000/hdfs/path/Spark/avg_rating_by_category\", \n",
    "                             header=True, \n",
    "                             mode=\"overwrite\")"
   ]
  },
  {
   "cell_type": "markdown",
   "id": "c22821ed-b265-47d5-a84b-5d99af93e98d",
   "metadata": {},
   "source": [
    "### **Average Views by Category**"
   ]
  },
  {
   "cell_type": "code",
   "execution_count": null,
   "id": "17584330-a4a3-4669-9c48-0f75fccc7fc4",
   "metadata": {},
   "outputs": [],
   "source": [
    "start_time = time.time()\n",
    "average_views_df = df.groupBy(\"category\").agg({\"views\": \"avg\"}) \\\n",
    "    .withColumnRenamed(\"avg(views)\", \"average_views\")\n",
    "end_time = time.time()"
   ]
  },
  {
   "cell_type": "code",
   "execution_count": null,
   "id": "be6e9a1a-70dc-42b3-9f6f-189aa6010a42",
   "metadata": {},
   "outputs": [],
   "source": [
    "average_views_df.show(truncate=False)"
   ]
  },
  {
   "cell_type": "code",
   "execution_count": null,
   "id": "99a047ac-1656-409a-80d6-c535d8f9c7aa",
   "metadata": {},
   "outputs": [],
   "source": [
    "execution_time = end_time - start_time\n",
    "print(f\"Execution time for the operation: {execution_time} seconds\")"
   ]
  },
  {
   "cell_type": "code",
   "execution_count": null,
   "id": "686664b5-49e1-4792-bcf2-cd58813a7622",
   "metadata": {},
   "outputs": [],
   "source": [
    "average_views_df.write.csv(\"hdfs://localhost:9000/hdfs/path/Spark/avg_views_by_category\", \n",
    "                            header=True, \n",
    "                            mode=\"overwrite\")"
   ]
  },
  {
   "cell_type": "markdown",
   "id": "5421125a-9afa-4b23-9ce4-d9538e94c66d",
   "metadata": {},
   "source": [
    "### **Total Comments by Category**"
   ]
  },
  {
   "cell_type": "code",
   "execution_count": null,
   "id": "98b56e39-27f1-483f-8dfd-6fe7b3549e6a",
   "metadata": {},
   "outputs": [],
   "source": [
    "start_time = time.time()\n",
    "total_comments_df = df.groupBy(\"category\").agg({\"comments_count\": \"sum\"}) \\\n",
    "    .withColumnRenamed(\"sum(comments_count)\", \"total_comments\")\n",
    "end_time = time.time()"
   ]
  },
  {
   "cell_type": "code",
   "execution_count": null,
   "id": "0387744e-1f0e-423a-b2be-e05022edf7d8",
   "metadata": {},
   "outputs": [],
   "source": [
    "total_comments_df.show(truncate=False)"
   ]
  },
  {
   "cell_type": "code",
   "execution_count": null,
   "id": "42f91b86-5678-44b7-9d37-b9bc40eee4b7",
   "metadata": {},
   "outputs": [],
   "source": [
    "execution_time = end_time - start_time\n",
    "print(f\"Execution time for the operation: {execution_time} seconds\")"
   ]
  },
  {
   "cell_type": "code",
   "execution_count": null,
   "id": "c2da4027-7ab8-4b9e-abe2-94bd221e04e2",
   "metadata": {},
   "outputs": [],
   "source": [
    "total_comments_df.write.csv(\"hdfs://localhost:9000/yt/Spark/total_comments_by_category\", \n",
    "                             header=True, \n",
    "                             mode=\"overwrite\")"
   ]
  },
  {
   "cell_type": "markdown",
   "id": "15bfe2af-22da-4e4f-8329-d4cd18d88c8f",
   "metadata": {},
   "source": [
    "### **Total Videos by Uploader**"
   ]
  },
  {
   "cell_type": "code",
   "execution_count": null,
   "id": "d597bfb4-0dab-4a09-888c-58d4bd496958",
   "metadata": {},
   "outputs": [],
   "source": [
    "start_time = time.time()\n",
    "total_videos_by_uploader_df = df.groupBy(\"uploader\").agg({\"video_id\": \"count\"}) \\\n",
    "    .withColumnRenamed(\"count(video_id)\", \"total_videos\")\n",
    "end_time = time.time()"
   ]
  },
  {
   "cell_type": "code",
   "execution_count": null,
   "id": "ed0822b5-73b6-43c7-8dec-078ac2255ea2",
   "metadata": {},
   "outputs": [],
   "source": [
    "total_videos_by_uploader_df.show(truncate=False)"
   ]
  },
  {
   "cell_type": "code",
   "execution_count": null,
   "id": "adb0a648-283e-4c1a-9f12-5b25b7a81f95",
   "metadata": {},
   "outputs": [],
   "source": [
    "execution_time = end_time - start_time\n",
    "print(f\"Execution time for the operation: {execution_time} seconds\")"
   ]
  },
  {
   "cell_type": "code",
   "execution_count": null,
   "id": "3d233ed7-3e33-4cb0-be97-f719d558bd4c",
   "metadata": {},
   "outputs": [],
   "source": [
    "total_videos_by_uploader_df.write.csv(\"hdfs://localhost:9000/hdfs/path/Spark/total_videos_by_uploader\", \n",
    "                                        header=True, \n",
    "                                        mode=\"overwrite\")"
   ]
  },
  {
   "cell_type": "markdown",
   "id": "f689ae0c-ccce-4ace-a5d2-54c8e4813aed",
   "metadata": {},
   "source": [
    "### **Top 10 Most Viewed Videos**"
   ]
  },
  {
   "cell_type": "code",
   "execution_count": null,
   "id": "d1b26597-ce5b-4629-a690-7441a0835476",
   "metadata": {},
   "outputs": [],
   "source": [
    "start_time = time.time()\n",
    "top_10_most_viewed_df = df.orderBy(df.views.desc()).limit(10)\n",
    "end_time = time.time()"
   ]
  },
  {
   "cell_type": "code",
   "execution_count": null,
   "id": "071d2620-77d3-4d30-b319-360134bad2ac",
   "metadata": {},
   "outputs": [],
   "source": [
    "top_10_most_viewed_df.show(truncate=False)"
   ]
  },
  {
   "cell_type": "code",
   "execution_count": null,
   "id": "76696187-d3c6-48e8-9d8e-c7f7e51dd227",
   "metadata": {},
   "outputs": [],
   "source": [
    "execution_time = end_time - start_time\n",
    "print(f\"Execution time for the operation: {execution_time} seconds\")"
   ]
  },
  {
   "cell_type": "code",
   "execution_count": null,
   "id": "29860e32-de86-4d60-ae6f-551eeded168f",
   "metadata": {},
   "outputs": [],
   "source": [
    "top_10_most_viewed_df.write.csv(\"hdfs://localhost:9000/hdfs/path/Spark/top_10_most_viewed_videos\", \n",
    "                                  header=True, \n",
    "                                  mode=\"overwrite\")"
   ]
  },
  {
   "cell_type": "markdown",
   "id": "76957566-0b7c-4eb9-a11f-0847d6409c2c",
   "metadata": {},
   "source": [
    "### **Top 5 Longest Videos**"
   ]
  },
  {
   "cell_type": "code",
   "execution_count": null,
   "id": "11989594-f385-4a75-a081-42acdd05f049",
   "metadata": {},
   "outputs": [],
   "source": [
    "start_time = time.time()\n",
    "top_5_longest_videos_df = df.orderBy(df.length.desc()).limit(5)\n",
    "end_time = time.time()"
   ]
  },
  {
   "cell_type": "code",
   "execution_count": null,
   "id": "fe7960ce-9c3d-4d41-af39-573fd768d65e",
   "metadata": {},
   "outputs": [],
   "source": [
    "top_5_longest_videos_df.show(truncate=False)"
   ]
  },
  {
   "cell_type": "code",
   "execution_count": null,
   "id": "d99830c6-c941-4986-b315-486afcce6f3b",
   "metadata": {},
   "outputs": [],
   "source": [
    "execution_time = end_time - start_time\n",
    "print(f\"Execution time for the operation: {execution_time} seconds\")"
   ]
  },
  {
   "cell_type": "code",
   "execution_count": null,
   "id": "958a9cb0-e73f-4f38-af57-79d5ad3b29a4",
   "metadata": {},
   "outputs": [],
   "source": [
    "top_5_longest_videos_df.write.csv(\"hdfs://localhost:9000/hdfs/path/Spark/top_5_longest_videos\", \n",
    "                                    header=True, \n",
    "                                    mode=\"overwrite\")"
   ]
  },
  {
   "cell_type": "markdown",
   "id": "641ef674-1bb7-4f9f-864d-7599642e5789",
   "metadata": {},
   "source": [
    "### **Top 5 Uploaders by Number of Videos**"
   ]
  },
  {
   "cell_type": "code",
   "execution_count": null,
   "id": "cd061b22-9de1-4d3d-ba7d-6d3f6b8b8862",
   "metadata": {},
   "outputs": [],
   "source": [
    "start_time = time.time()\n",
    "top_5_uploaders_df = df.groupBy(\"uploader\").agg({\"video_id\": \"count\"}) \\\n",
    "    .withColumnRenamed(\"count(video_id)\", \"total_videos\") \\\n",
    "    .orderBy(\"total_videos\", ascending=False) \\\n",
    "    .limit(5)\n",
    "end_time = time.time()"
   ]
  },
  {
   "cell_type": "code",
   "execution_count": null,
   "id": "7d45655f-e5ba-4971-8df7-ae56f8ef4eed",
   "metadata": {},
   "outputs": [],
   "source": [
    "top_5_uploaders_df.show(truncate=False)"
   ]
  },
  {
   "cell_type": "code",
   "execution_count": null,
   "id": "82959dfa-e441-4100-b5c9-17bf29fb9802",
   "metadata": {},
   "outputs": [],
   "source": [
    "execution_time = end_time - start_time\n",
    "print(f\"Execution time for the operation: {execution_time} seconds\")"
   ]
  },
  {
   "cell_type": "code",
   "execution_count": null,
   "id": "b4dabb6e-5efc-4eac-96d1-49e2187e6ce4",
   "metadata": {},
   "outputs": [],
   "source": [
    "top_5_uploaders_df.write.csv(\"hdfs://localhost:9000/hdfs/path/Spark/top_5_uploaders_by_number_of_videos\", \n",
    "                              header=True, \n",
    "                              mode=\"overwrite\")"
   ]
  },
  {
   "cell_type": "markdown",
   "id": "c875606b-0b22-4fa7-9edf-e4f1373752f5",
   "metadata": {},
   "source": [
    "### **Length vs Views**"
   ]
  },
  {
   "cell_type": "code",
   "execution_count": null,
   "id": "f1abb19d-c350-46cc-b8d6-c8cff7b56c97",
   "metadata": {},
   "outputs": [],
   "source": [
    "start_time = time.time()\n",
    "length_vs_views_df = df.groupBy(\"length\").agg({\"views\": \"avg\"}) \\\n",
    "    .withColumnRenamed(\"avg(views)\", \"avg_views\")\n",
    "end_time = time.time()"
   ]
  },
  {
   "cell_type": "code",
   "execution_count": null,
   "id": "e007dfdd-17f4-4430-8fe4-b4b4b3d08f45",
   "metadata": {},
   "outputs": [],
   "source": [
    "length_vs_views_df.show(truncate=False)"
   ]
  },
  {
   "cell_type": "code",
   "execution_count": null,
   "id": "e7ffd2dd-106e-48ce-8200-cc01ed108d83",
   "metadata": {},
   "outputs": [],
   "source": [
    "execution_time = end_time - start_time\n",
    "print(f\"Execution time for the operation: {execution_time} seconds\")"
   ]
  },
  {
   "cell_type": "code",
   "execution_count": null,
   "id": "6002fdf0-1873-474d-a9aa-2d25926854b5",
   "metadata": {},
   "outputs": [],
   "source": [
    "length_vs_views_df.write.csv(\"hdfs://localhost:9000/hdfs/path/Spark/length_vs_views\", \n",
    "                              header=True, \n",
    "                              mode=\"overwrite\")"
   ]
  },
  {
   "cell_type": "markdown",
   "id": "7a2c0f80-1e1d-4ae4-b8c4-0aa80b871b44",
   "metadata": {},
   "source": [
    "### **Videos with Ratings Above 4.5**"
   ]
  },
  {
   "cell_type": "code",
   "execution_count": null,
   "id": "0fb8fc75-01ca-4ce9-bcbe-69aa39b83fea",
   "metadata": {},
   "outputs": [],
   "source": [
    "start_time = time.time()\n",
    "high_rating_df = df.filter(df.rating > 4.5)\n",
    "end_time = time.time()"
   ]
  },
  {
   "cell_type": "code",
   "execution_count": null,
   "id": "468eb7ce-96c4-4565-ae65-507a6b5159b6",
   "metadata": {},
   "outputs": [],
   "source": [
    "high_rating_df.show(truncate=False)"
   ]
  },
  {
   "cell_type": "code",
   "execution_count": null,
   "id": "fd8ea27b-2857-42c3-8408-ff544ddcacec",
   "metadata": {},
   "outputs": [],
   "source": [
    "execution_time = end_time - start_time\n",
    "print(f\"Execution time for the operation: {execution_time} seconds\")"
   ]
  },
  {
   "cell_type": "code",
   "execution_count": null,
   "id": "52759691-cd25-4f32-8f01-493eb823e98d",
   "metadata": {},
   "outputs": [],
   "source": [
    "high_rating_df.write.csv(\"hdfs://localhost:9000/hdfs/path/Spark/videos_with_ratings_above_4_5\", \n",
    "                          header=True, \n",
    "                          mode=\"overwrite\")"
   ]
  },
  {
   "cell_type": "code",
   "execution_count": null,
   "id": "2e324d40-e4e2-4fa8-9716-bded6e77f50d",
   "metadata": {},
   "outputs": [],
   "source": [
    "spark.stop()"
   ]
  },
  {
   "cell_type": "markdown",
   "id": "3e5998a7-93a1-4658-8cf5-77f291d621a2",
   "metadata": {},
   "source": [
    "# **Hive**"
   ]
  },
  {
   "cell_type": "markdown",
   "id": "e8930421-fdbd-471c-a7c0-f21bb73dafea",
   "metadata": {},
   "source": [
    "#### Run the following commands on Hive"
   ]
  },
  {
   "cell_type": "markdown",
   "id": "c88d1008-7a47-424c-bf2b-83cdd6a7e397",
   "metadata": {},
   "source": [
    "### **Top 10 Most Viewed Videos**"
   ]
  },
  {
   "cell_type": "code",
   "execution_count": null,
   "id": "2a88c2a3-ecfe-4caf-a48f-cfa834737bd6",
   "metadata": {},
   "outputs": [],
   "source": [
    "INSERT OVERWRITE DIRECTORY '/hdfs/path/Hive/top_10_most_viewed_videos'\n",
    "ROW FORMAT DELIMITED \n",
    "FIELDS TERMINATED BY '\\t' \n",
    "SELECT video_id, views\n",
    "FROM merged_youtube_data\n",
    "ORDER BY views DESC\n",
    "LIMIT 10;"
   ]
  },
  {
   "cell_type": "markdown",
   "id": "61dca390-1845-4423-8087-be97da26a6c4",
   "metadata": {},
   "source": [
    "### **Average Rating by Category**"
   ]
  },
  {
   "cell_type": "code",
   "execution_count": null,
   "id": "7be6bb30-3620-45fb-9a60-daaddf04ba17",
   "metadata": {},
   "outputs": [],
   "source": [
    "INSERT OVERWRITE DIRECTORY '/hdfs/path/Hive/avg_rating_by_category'\n",
    "ROW FORMAT DELIMITED FIELDS TERMINATED BY '\\t'\n",
    "SELECT category, AVG(rating) AS avg_rating\n",
    "FROM merged_youtube_data\n",
    "GROUP BY category;"
   ]
  },
  {
   "cell_type": "markdown",
   "id": "1dd538d9-5dde-47ec-91c6-f4e5bc0f3332",
   "metadata": {},
   "source": [
    "### **Videos with Ratings Greater Than 4.5**"
   ]
  },
  {
   "cell_type": "code",
   "execution_count": null,
   "id": "6e247986-f083-4721-96ab-0767b21fbd27",
   "metadata": {},
   "outputs": [],
   "source": [
    "INSERT OVERWRITE DIRECTORY '/hdfs/path/Hive/videos_with_ratings_above_4_5'\n",
    "ROW FORMAT DELIMITED FIELDS TERMINATED BY '\\t'\n",
    "SELECT video_id, rating\n",
    "FROM merged_youtube_data\n",
    "WHERE rating > 4.5;"
   ]
  },
  {
   "cell_type": "markdown",
   "id": "16b54adb-fa52-47c2-b441-b7d81dfcad46",
   "metadata": {},
   "source": [
    "### **Average Views per Category**"
   ]
  },
  {
   "cell_type": "code",
   "execution_count": null,
   "id": "97968cff-f4bc-427d-a0ce-23c20d62e4c2",
   "metadata": {},
   "outputs": [],
   "source": [
    "INSERT OVERWRITE DIRECTORY '/hdfs/path/Hive/avg_views_by_category'\n",
    "ROW FORMAT DELIMITED\n",
    "FIELDS TERMINATED BY '\\t'\n",
    "SELECT category, COUNT(*) AS total_videos, AVG(rating) AS avg_rating\n",
    "FROM merged_youtube_data\n",
    "GROUP BY category;"
   ]
  },
  {
   "cell_type": "markdown",
   "id": "7d8a3430-4409-4e09-a228-f8ee83398d85",
   "metadata": {},
   "source": [
    "### **Top 5 Uploaders by Number of Videos**"
   ]
  },
  {
   "cell_type": "code",
   "execution_count": null,
   "id": "3cd76cfc-a895-47d7-bc27-e0a001b811ea",
   "metadata": {},
   "outputs": [],
   "source": [
    "INSERT OVERWRITE DIRECTORY '/hdfs/path/Hive/top_5_uploaders_by_number_of_videos'\n",
    "ROW FORMAT DELIMITED FIELDS TERMINATED BY '\\t'\n",
    "SELECT uploader, COUNT(video_id) AS video_count\n",
    "FROM merged_youtube_data\n",
    "GROUP BY uploader\n",
    "ORDER BY video_count DESC\n",
    "LIMIT 5;"
   ]
  },
  {
   "cell_type": "markdown",
   "id": "4691dd8b-3c62-43e0-b446-d499cf6f42ec",
   "metadata": {},
   "source": [
    "### **Top 5 Longest Videos**"
   ]
  },
  {
   "cell_type": "code",
   "execution_count": null,
   "id": "9a5fd5a9-d056-4698-b035-a33423ede067",
   "metadata": {},
   "outputs": [],
   "source": [
    "INSERT OVERWRITE DIRECTORY '/hdfs/path/Hive/top_5_longest_videos'\n",
    "ROW FORMAT DELIMITED FIELDS TERMINATED BY '\\t'\n",
    "SELECT video_id, length\n",
    "FROM merged_youtube_data\n",
    "ORDER BY length DESC\n",
    "LIMIT 5;"
   ]
  },
  {
   "cell_type": "markdown",
   "id": "2e13433e-245e-4520-92fc-fdfbbb739f45",
   "metadata": {},
   "source": [
    "### **Total Comments Count by Category**"
   ]
  },
  {
   "cell_type": "code",
   "execution_count": null,
   "id": "343c0df1-b328-45e9-bef2-71993c4eb48b",
   "metadata": {},
   "outputs": [],
   "source": [
    "INSERT OVERWRITE DIRECTORY '/hdfs/path/Hive/total_comments_by_category'\n",
    "ROW FORMAT DELIMITED FIELDS TERMINATED BY '\\t'\n",
    "SELECT category, SUM(comments_count) AS total_comments\n",
    "FROM merged_youtube_data\n",
    "GROUP BY category;"
   ]
  },
  {
   "cell_type": "markdown",
   "id": "b0c5ea05-c7f9-4e54-a317-14b083131dfc",
   "metadata": {},
   "source": [
    "### **Total Number of Videos by Each Uploader**"
   ]
  },
  {
   "cell_type": "markdown",
   "id": "6c565436-1140-4ad5-9c87-5e830553ee98",
   "metadata": {},
   "source": [
    "INSERT OVERWRITE DIRECTORY '/hdfs/path/Hive/total_videos_by_uploader'\n",
    "ROW FORMAT DELIMITED FIELDS TERMINATED BY '\\t'\n",
    "SELECT uploader, COUNT(video_id) AS video_count\n",
    "FROM merged_youtube_data\n",
    "GROUP BY uploader;"
   ]
  },
  {
   "cell_type": "markdown",
   "id": "047030e4-971d-4225-976f-d53181163ac2",
   "metadata": {},
   "source": [
    "### **Average Video Length by Category**"
   ]
  },
  {
   "cell_type": "code",
   "execution_count": null,
   "id": "cc844fb7-27f2-4637-9874-3fcffaff3e7e",
   "metadata": {},
   "outputs": [],
   "source": [
    "INSERT OVERWRITE DIRECTORY '/hdfs/path/Hive/avg_video_length_by_category'\n",
    "ROW FORMAT DELIMITED FIELDS TERMINATED BY '\\t'\n",
    "SELECT category, \n",
    "       COALESCE(AVG(length), 0) AS avg_length\n",
    "FROM merged_youtube_data\n",
    "WHERE category IS NOT NULL\n",
    "GROUP BY category;"
   ]
  },
  {
   "cell_type": "markdown",
   "id": "b1124ad9-bdc9-4cf4-a841-6c12c4fadfca",
   "metadata": {},
   "source": [
    "### **Videos with High Views but Low Ratings**"
   ]
  },
  {
   "cell_type": "code",
   "execution_count": null,
   "id": "21c66480-04fb-4c99-bfe6-13fb229c0e4d",
   "metadata": {},
   "outputs": [],
   "source": [
    "INSERT OVERWRITE DIRECTORY '/hdfs/path/Hive/high_views_low_ratings'\n",
    "ROW FORMAT DELIMITED FIELDS TERMINATED BY '\\t'\n",
    "SELECT video_id, views, rating\n",
    "FROM merged_youtube_data\n",
    "WHERE views > 100000 AND rating < 2.5;"
   ]
  },
  {
   "cell_type": "markdown",
   "id": "a96783d3-44d0-4ffb-9218-5bbe7627f30a",
   "metadata": {},
   "source": [
    "### **Relationship Between Video Length and Views**"
   ]
  },
  {
   "cell_type": "code",
   "execution_count": null,
   "id": "8786df71-75aa-4790-a611-7abea61b7cb4",
   "metadata": {},
   "outputs": [],
   "source": [
    "INSERT OVERWRITE DIRECTORY '/hdfs/path/Hive/length_vs_views'\n",
    "ROW FORMAT DELIMITED FIELDS TERMINATED BY '\\t'\n",
    "SELECT length, AVG(views) AS avg_views\n",
    "FROM merged_youtube_data\n",
    "GROUP BY length;"
   ]
  },
  {
   "cell_type": "markdown",
   "id": "6bc8ec57-deaf-40aa-a3ed-d11021ee0b72",
   "metadata": {},
   "source": [
    "# **Pig**"
   ]
  },
  {
   "cell_type": "markdown",
   "id": "13d8320a-f5dd-4184-9a73-e430eab3a34c",
   "metadata": {},
   "source": [
    "#### Run the following commands on Pig"
   ]
  },
  {
   "cell_type": "code",
   "execution_count": null,
   "id": "12b49d8c-b5ae-4add-a21d-4d5a259f1399",
   "metadata": {},
   "outputs": [],
   "source": [
    "youtube_data = LOAD '/hdfs/path/Hive/merged_youtube_data' USING PigStorage('\\t') AS (\n",
    "    video_id: chararray, \n",
    "    uploader: chararray, \n",
    "    age: float, \n",
    "    category: chararray, \n",
    "    length: float, \n",
    "    views: float, \n",
    "    rating: float, \n",
    "    ratings_count: float, \n",
    "    comments_count: float, \n",
    "    related_videos: chararray\n",
    ");"
   ]
  },
  {
   "cell_type": "code",
   "execution_count": null,
   "id": "fee98f82-6358-4eda-93ff-5581ddbf332f",
   "metadata": {},
   "outputs": [],
   "source": [
    "DESCRIBE youtube_data;"
   ]
  },
  {
   "cell_type": "code",
   "execution_count": null,
   "id": "440f641a-f3d4-4b6d-9588-77166e421e86",
   "metadata": {},
   "outputs": [],
   "source": [
    "limited_data = LIMIT youtube_data 10;\n",
    "DUMP limited_data;"
   ]
  },
  {
   "cell_type": "markdown",
   "id": "1db76272-0301-4709-9488-71052d65ee7c",
   "metadata": {},
   "source": [
    "### **Top 10 Most Viewed Videos**"
   ]
  },
  {
   "cell_type": "code",
   "execution_count": null,
   "id": "57b5f4e9-c276-4fd6-9acf-4e0a4045f0cb",
   "metadata": {},
   "outputs": [],
   "source": [
    "top_10_most_viewed_videos = LIMIT (ORDER youtube_data BY views DESC) 10;\n",
    "STORE top_10_most_viewed_videos INTO '/hdfs/path/Pig/top_10_most_viewed_videos' USING PigStorage(',');"
   ]
  },
  {
   "cell_type": "markdown",
   "id": "8927633a-3500-48dd-90fa-8bd5fed81d35",
   "metadata": {},
   "source": [
    "### **Average Rating by Category**"
   ]
  },
  {
   "cell_type": "code",
   "execution_count": null,
   "id": "07cbc0b1-a805-467a-97b7-ad5e0bc1319c",
   "metadata": {},
   "outputs": [],
   "source": [
    "avg_rating_by_category = FOREACH (GROUP youtube_data BY category) GENERATE \n",
    "    group AS category, \n",
    "    AVG(youtube_data.rating) AS avg_rating;\n",
    "STORE avg_rating_by_category INTO '/hdfs/path/Pig/avg_rating_by_category' USING PigStorage(',');"
   ]
  },
  {
   "cell_type": "markdown",
   "id": "35d90ed9-289b-49f0-b0b4-b380588ac838",
   "metadata": {},
   "source": [
    "### **Videos with Ratings Greater Than 4.5**"
   ]
  },
  {
   "cell_type": "code",
   "execution_count": null,
   "id": "d75f2f05-fc53-4d2a-9f82-b3c1f479e9c5",
   "metadata": {},
   "outputs": [],
   "source": [
    "videos_with_ratings_above_4_5 = FILTER youtube_data BY rating > 4.5;\n",
    "STORE videos_with_ratings_above_4_5 INTO '/hdfs/path/Pig/videos_with_ratings_above_4_5' USING PigStorage(',');"
   ]
  },
  {
   "cell_type": "markdown",
   "id": "5451ec47-5f15-4a8e-a817-143fb97454c2",
   "metadata": {},
   "source": [
    "### **Top 5 Uploaders by Number of Videos**"
   ]
  },
  {
   "cell_type": "code",
   "execution_count": null,
   "id": "cd979121-6110-49b4-8955-e6e6bc42059f",
   "metadata": {},
   "outputs": [],
   "source": [
    "grouped_by_uploader = GROUP youtube_data BY uploader;\n",
    "uploader_video_count = FOREACH grouped_by_uploader GENERATE group AS uploader, COUNT(youtube_data) AS video_count;\n",
    "sorted_uploader = ORDER uploader_video_count BY video_count DESC;\n",
    "top_5_uploaders = LIMIT sorted_uploader 5;\n",
    "STORE top_5_uploaders INTO '/hdfs/path/Pig/top_5_uploaders' USING PigStorage(',');"
   ]
  },
  {
   "cell_type": "markdown",
   "id": "56863eab-b7b1-4f4f-88ab-0da858425247",
   "metadata": {},
   "source": [
    "### **Average Views per Category**"
   ]
  },
  {
   "cell_type": "code",
   "execution_count": null,
   "id": "a0b20001-014d-4e38-b187-33f07232ed2f",
   "metadata": {},
   "outputs": [],
   "source": [
    "avg_views_by_category = FOREACH (GROUP youtube_data BY category) GENERATE \n",
    "    group AS category, \n",
    "    AVG(youtube_data.views) AS avg_views;\n",
    "STORE avg_views_by_category INTO '/hdfs/path/Pig/avg_views_by_category' USING PigStorage(',');"
   ]
  },
  {
   "cell_type": "markdown",
   "id": "3bdc26aa-6a04-4d65-af5d-511b2ffcd000",
   "metadata": {},
   "source": [
    "### **Top 5 Longest Videos**"
   ]
  },
  {
   "cell_type": "code",
   "execution_count": null,
   "id": "91dccce7-8dbe-478b-aa87-d3fb2860eb8c",
   "metadata": {},
   "outputs": [],
   "source": [
    "top_5_longest_videos = LIMIT (ORDER youtube_data BY length DESC) 5;\n",
    "STORE top_5_longest_videos INTO '/hdfs/path/Pig/top_5_longest_videos' USING PigStorage(',');"
   ]
  },
  {
   "cell_type": "markdown",
   "id": "6fbfa708-17e7-4202-a958-5461b42a1eb1",
   "metadata": {},
   "source": [
    "### **Total Comments Count by Category**"
   ]
  },
  {
   "cell_type": "code",
   "execution_count": null,
   "id": "27a7d074-a03e-4d3d-a578-0230836c89f0",
   "metadata": {},
   "outputs": [],
   "source": [
    "total_comments_by_category = FOREACH (GROUP youtube_data BY category) GENERATE \n",
    "    group AS category, \n",
    "    SUM(youtube_data.comments_count) AS total_comments;\n",
    "STORE total_comments_by_category INTO '/hdfs/path/Pig/total_comments_by_category' USING PigStorage(',');"
   ]
  },
  {
   "cell_type": "markdown",
   "id": "c236d4fa-315c-497b-ab9d-12e79e4911e9",
   "metadata": {},
   "source": [
    "### **Total Number of Videos by Each Uploader**"
   ]
  },
  {
   "cell_type": "code",
   "execution_count": null,
   "id": "5866ca12-5267-4e4a-9b51-cfb71eaf259b",
   "metadata": {},
   "outputs": [],
   "source": [
    "total_videos_by_uploader = FOREACH (GROUP youtube_data BY uploader) GENERATE \n",
    "    group AS uploader, \n",
    "    COUNT(youtube_data.video_id) AS total_videos;\n",
    "STORE total_videos_by_uploader INTO '/hdfs/path/Pig/total_videos_by_uploader' USING PigStorage(',');"
   ]
  },
  {
   "cell_type": "markdown",
   "id": "b05cdac5-509c-4f68-a509-5a9a5a2c150a",
   "metadata": {},
   "source": [
    "### **Average Video Length by Category**"
   ]
  },
  {
   "cell_type": "code",
   "execution_count": null,
   "id": "dd4cacb1-62af-4b64-9aa8-629ccd0bb341",
   "metadata": {},
   "outputs": [],
   "source": [
    "avg_video_length_by_category = FOREACH (GROUP youtube_data BY category) GENERATE \n",
    "    group AS category, \n",
    "    AVG(youtube_data.length) AS avg_length;\n",
    "STORE avg_video_length_by_category INTO '/hdfs/path/Pig/avg_video_length_by_category' USING PigStorage(',');"
   ]
  },
  {
   "cell_type": "markdown",
   "id": "5097e40b-6462-4f7b-ae72-6e746d8789b6",
   "metadata": {},
   "source": [
    "### **Videos with High Views but Low Ratings**"
   ]
  },
  {
   "cell_type": "code",
   "execution_count": null,
   "id": "106d1c69-926c-4636-8da6-8441cf1f2c50",
   "metadata": {},
   "outputs": [],
   "source": [
    "high_views_low_ratings = FILTER youtube_data BY views > 10000 AND rating < 3.0;\n",
    "STORE high_views_low_ratings INTO '/hdfs/path/Pig/high_views_low_ratings' USING PigStorage(',');"
   ]
  },
  {
   "cell_type": "markdown",
   "id": "29a6bab1-6844-4334-bedd-f4ec1b7a8042",
   "metadata": {},
   "source": [
    "### **Relationship Between Video Length and Views**"
   ]
  },
  {
   "cell_type": "code",
   "execution_count": null,
   "id": "ebbff772-d17a-472d-a3d9-b2bfb47e0387",
   "metadata": {},
   "outputs": [],
   "source": [
    "length_vs_views = GROUP youtube_data BY length;\n",
    "avg_views = FOREACH length_vs_views GENERATE \n",
    "    group AS length, \n",
    "    AVG(youtube_data.views) AS avg_views;\n",
    "\n",
    "STORE avg_views INTO '/hdfs/path/Pig/length_vs_views' USING PigStorage('\\t');"
   ]
  },
  {
   "cell_type": "markdown",
   "id": "931d628f-6bbf-4e8e-ac44-cd6b4ef252d1",
   "metadata": {},
   "source": [
    "# **HBase**"
   ]
  },
  {
   "cell_type": "markdown",
   "id": "015b7389-b1c7-4b52-8247-f19afd71fd43",
   "metadata": {},
   "source": [
    "#### HBase command before executing the following : create 'youtube_data', 'video_info', 'metrics'"
   ]
  },
  {
   "cell_type": "code",
   "execution_count": null,
   "id": "858362a9-9e18-456b-9c8c-d7f078b08405",
   "metadata": {},
   "outputs": [],
   "source": [
    "from pyspark.sql import SparkSession\n",
    "from happybase import Connection\n",
    "import happybase"
   ]
  },
  {
   "cell_type": "code",
   "execution_count": null,
   "id": "d71c9b6f-7fbc-43fe-95e4-47e7f9713354",
   "metadata": {},
   "outputs": [],
   "source": [
    "spark = SparkSession.builder.appName(\"HiveToHBase\").enableHiveSupport().getOrCreate()"
   ]
  },
  {
   "cell_type": "code",
   "execution_count": null,
   "id": "1aa97b74-61fc-40c7-95e2-1a3f47c4d77f",
   "metadata": {},
   "outputs": [],
   "source": [
    "df = spark.read.option(\"sep\", \"\\t\").csv(\"/hdfs/path/Hive/merged_youtube_data\", header=False)"
   ]
  },
  {
   "cell_type": "code",
   "execution_count": null,
   "id": "0f52cf27-66ab-4733-9a39-70459e0cb1d4",
   "metadata": {},
   "outputs": [],
   "source": [
    "df.show(3)"
   ]
  },
  {
   "cell_type": "code",
   "execution_count": null,
   "id": "90a00c44-7e74-4187-801f-f825311db77d",
   "metadata": {},
   "outputs": [],
   "source": [
    "df = df.withColumnRenamed(\"_c0\", \"video_id\") \\\n",
    "       .withColumnRenamed(\"_c1\", \"uploader\") \\\n",
    "       .withColumnRenamed(\"_c2\", \"age\") \\\n",
    "       .withColumnRenamed(\"_c3\", \"category\") \\\n",
    "       .withColumnRenamed(\"_c4\", \"length\") \\\n",
    "       .withColumnRenamed(\"_c5\", \"views\") \\\n",
    "       .withColumnRenamed(\"_c6\", \"rating\") \\\n",
    "       .withColumnRenamed(\"_c7\", \"ratings_count\") \\\n",
    "       .withColumnRenamed(\"_c8\", \"comments_count\") \\\n",
    "       .withColumnRenamed(\"_c9\", \"related_videos\")"
   ]
  },
  {
   "cell_type": "code",
   "execution_count": null,
   "id": "0b44c62c-8564-447e-a88e-b58ecb067c8d",
   "metadata": {},
   "outputs": [],
   "source": [
    "df.show(3)"
   ]
  },
  {
   "cell_type": "code",
   "execution_count": null,
   "id": "bb3319ec-909c-49db-b66e-4e4eec31cd2e",
   "metadata": {},
   "outputs": [],
   "source": [
    "connection = happybase.Connection('localhost')  # Replace 'localhost' with your HBase host\n",
    "connection.open()\n",
    "table = connection.table('youtube_data') "
   ]
  },
  {
   "cell_type": "code",
   "execution_count": null,
   "id": "1642533d-2e86-49ca-bc92-589a04050f41",
   "metadata": {},
   "outputs": [],
   "source": [
    "def write_partition_to_hbase(partition):\n",
    "    import happybase\n",
    "\n",
    "    connection = happybase.Connection('localhost')\n",
    "    table = connection.table('youtube_data')\n",
    "\n",
    "    try:\n",
    "        for row in partition:\n",
    "            row_key = row['video_id'] \n",
    "            if row_key:  # Ensure row_key is not None\n",
    "                data = {\n",
    "                    b'video_info:uploader': row['uploader'].encode() if row['uploader'] else b'',\n",
    "                    b'video_info:category': row['category'].encode() if row['category'] else b'',\n",
    "                    b'video_info:related_videos': row['related_videos'].encode() if row['related_videos'] else b'',\n",
    "                    b'metrics:length': str(row['length']).encode() if row['length'] is not None else b'',\n",
    "                    b'metrics:views': str(row['views']).encode() if row['views'] is not None else b'',\n",
    "                    b'metrics:rating': str(row['rating']).encode() if row['rating'] is not None else b'',\n",
    "                    b'metrics:ratings_count': str(row['ratings_count']).encode() if row['ratings_count'] is not None else b'',\n",
    "                    b'metrics:comments_count': str(row['comments_count']).encode() if row['comments_count'] is not None else b''\n",
    "                }\n",
    "                table.put(row_key.encode(), data)\n",
    "    finally:\n",
    "        connection.close()"
   ]
  },
  {
   "cell_type": "code",
   "execution_count": null,
   "id": "97ed571b-69e8-4b28-b9af-20480af66ecc",
   "metadata": {},
   "outputs": [],
   "source": [
    "df.repartition(100).foreachPartition(write_partition_to_hbase)"
   ]
  },
  {
   "cell_type": "code",
   "execution_count": null,
   "id": "a473a8b5-104c-404e-bda2-ddabb4f90e60",
   "metadata": {},
   "outputs": [],
   "source": [
    "spark.stop()"
   ]
  },
  {
   "cell_type": "code",
   "execution_count": null,
   "id": "59c66b26-eac4-4b26-bcb3-0ad961e8315f",
   "metadata": {},
   "outputs": [],
   "source": [
    "connection = happybase.Connection('localhost')\n",
    "\n",
    "table = connection.table('youtube_data')\n",
    "\n",
    "# Scan a few rows to inspect the data\n",
    "for key, data in table.scan(limit=5): \n",
    "    print(key, data)\n",
    "\n",
    "connection.close()"
   ]
  },
  {
   "cell_type": "markdown",
   "id": "a4107f15-5eaf-4409-8438-6afaa6efada6",
   "metadata": {},
   "source": [
    "#### Run the following commands on Hbase to check the successful insertion of the dataset"
   ]
  },
  {
   "cell_type": "code",
   "execution_count": null,
   "id": "daa78b25-6b45-413c-8258-b1ae18bcfa2c",
   "metadata": {},
   "outputs": [],
   "source": [
    "list"
   ]
  },
  {
   "cell_type": "code",
   "execution_count": null,
   "id": "b519e8be-a2e1-46fb-b119-7100f8fc1670",
   "metadata": {},
   "outputs": [],
   "source": [
    "count 'youtube_data'"
   ]
  },
  {
   "cell_type": "code",
   "execution_count": null,
   "id": "b45cefee-b63c-47ef-9000-2ba9d951d13d",
   "metadata": {},
   "outputs": [],
   "source": [
    "describe 'youtube_data'"
   ]
  },
  {
   "cell_type": "code",
   "execution_count": null,
   "id": "0db1c8c9-830e-4ef5-93fd-fea15ffd2cdd",
   "metadata": {},
   "outputs": [],
   "source": [
    "describe 'youtube_data'   "
   ]
  },
  {
   "cell_type": "code",
   "execution_count": null,
   "id": "035ded01-de8d-4bc9-8737-e870b0315101",
   "metadata": {},
   "outputs": [],
   "source": [
    "scan 'youtube_data', {LIMIT => 2}"
   ]
  },
  {
   "cell_type": "markdown",
   "id": "c71feb81-664a-48d7-8eae-a7cd10d1e802",
   "metadata": {},
   "source": [
    "#### The output should look somewhat like this "
   ]
  },
  {
   "cell_type": "code",
   "execution_count": null,
   "id": "2e1de639-6462-4af1-a6d2-9067dd5c5bb3",
   "metadata": {},
   "outputs": [],
   "source": [
    "ROW                                     COLUMN+CELL                                                                                                        \n",
    " ---mkyh9Obc                            column=metrics:comments_count, timestamp=2024-10-25T13:02:17.181, value=1.0                                        \n",
    " ---mkyh9Obc                            column=metrics:length, timestamp=2024-10-25T13:02:17.181, value=306.0                                              \n",
    " ---mkyh9Obc                            column=metrics:rating, timestamp=2024-10-25T13:02:17.181, value=5.0                                                \n",
    " ---mkyh9Obc                            column=metrics:ratings_count, timestamp=2024-10-25T13:02:17.181, value=2.0                                         \n",
    " ---mkyh9Obc                            column=metrics:views, timestamp=2024-10-25T13:02:17.181, value=1616.0                                              \n",
    " ---mkyh9Obc                            column=video_info:category, timestamp=2024-10-25T13:02:17.181, value=Sports                                        \n",
    " ---mkyh9Obc                            column=video_info:related_videos, timestamp=2024-10-25T13:02:17.181, value=nUlccnCi2OY,L_GUfJ_tRLY,S1PxWoU_klE,duMS\n",
    "                                        cxR7LJ8,ymEdv7jNSSg,UR2CqPMwlzE,QNowKE2FtRE,jBDKKGrYpQw,jxLyjpajW6o,lWbwUhoP_0M,5rkuDqKgAgw,WGbsM1Ud548,pXW-ioHPDac\n",
    "                                        ,zpcUzWGI-QI,r_CscRAEEg4,xj_mR2r6VL8,Q0C0ndSbiwg,kcBOoYWpB5E,DXvx8HBMTYA,_THwrdK8RbQ                               \n",
    " ---mkyh9Obc                            column=video_info:uploader, timestamp=2024-10-25T13:02:17.181, value=A7N7                                          \n",
    " ---nH-hN_3E                            column=metrics:comments_count, timestamp=2024-10-25T13:04:33.793, value=3.0                                        \n",
    " ---nH-hN_3E                            column=metrics:length, timestamp=2024-10-25T13:04:33.793, value=462.0                                              \n",
    " ---nH-hN_3E                            column=metrics:rating, timestamp=2024-10-25T13:04:33.793, value=4.88                                               \n",
    " ---nH-hN_3E                            column=metrics:ratings_count, timestamp=2024-10-25T13:04:33.793, value=8.0                                         \n",
    " ---nH-hN_3E                            column=metrics:views, timestamp=2024-10-25T13:04:33.793, value=1715.0                                              \n",
    " ---nH-hN_3E                            column=video_info:category, timestamp=2024-10-25T13:04:33.793, value=Entertainment                                 \n",
    " ---nH-hN_3E                            column=video_info:related_videos, timestamp=2024-10-25T13:04:33.793, value=ES5MMnOot3U,doijMJJQITY,bIPiXgHGeeQ,GVle\n",
    "                                        FWEbv98,HAFBgb6tVDo,PouuidULyjU,9jNZMg5bXGw,4n8mcj3786M,sIRQJJTy35E,bG5FMcz43EE,NA6fAakyHoM,I3iLmMd4GbI,U24Jag8jMPk\n",
    "                                        ,mKeKBN1KW1Q,in3PtYmUpKE,cXH90iV6tdc,fhsHowxFudg,EsSRcjiS9Xc,B1fiPXbdVRs,65Cps7kh_co                               \n",
    " ---nH-hN_3E                            column=video_info:uploader, timestamp=2024-10-25T13:04:33.793, value=lilxkutie7                                    \n",
    "2 row(s)\n",
    "Took 0.1478 seconds                                                                                                                                        "
   ]
  },
  {
   "cell_type": "markdown",
   "id": "3ddb4b8b-dc7a-44d5-86e6-e8add77e49a3",
   "metadata": {},
   "source": [
    "#### Query Execution "
   ]
  },
  {
   "cell_type": "code",
   "execution_count": null,
   "id": "af6562a9-26f1-4cea-aaad-9927a4f15a1b",
   "metadata": {},
   "outputs": [],
   "source": [
    "import happybase\n",
    "import time\n",
    "import subprocess"
   ]
  },
  {
   "cell_type": "code",
   "execution_count": null,
   "id": "a590011b-4707-450e-af88-e104b720f8ca",
   "metadata": {},
   "outputs": [],
   "source": [
    "connection = happybase.Connection('localhost')\n",
    "connection.open()\n",
    "table = connection.table('youtube_data')"
   ]
  },
  {
   "cell_type": "code",
   "execution_count": null,
   "id": "a04f0257-8ae7-4846-a437-edd6c98ed58d",
   "metadata": {},
   "outputs": [],
   "source": [
    "# Utility function to measure execution time and save results to HDFS\n",
    "def measure_execution_time(func, filename, *args, **kwargs):\n",
    "    start_time = time.time()\n",
    "    result = func(*args, **kwargs)  \n",
    "    end_time = time.time()\n",
    "    execution_time = end_time - start_time\n",
    "    \n",
    "    save_to_hdfs(result, filename)\n",
    "\n",
    "    print(f\"Execution Time for {func.__name__}: {execution_time} seconds\")\n",
    "    return result, execution_time\n",
    "\n",
    "def save_to_hdfs(data, filename):\n",
    "    with open(filename, \"w\") as f:\n",
    "        for item in data:\n",
    "            f.write(f\"{item}\\n\")\n",
    "    \n",
    "    hdfs_path = f\"/hdfs/path/Hbase/{filename}\" \n",
    "    subprocess.run([\"hdfs\", \"dfs\", \"-put\",\"-f\", filename, hdfs_path], check=True)\n",
    "    print(f\"Results saved to HDFS at {hdfs_path}\")"
   ]
  },
  {
   "cell_type": "code",
   "execution_count": null,
   "id": "845ba35b-8d96-4591-8b6c-1d115708b4e6",
   "metadata": {},
   "outputs": [],
   "source": [
    "# Query 1: Top 10 Most Viewed Videos\n",
    "def top_10_most_viewed_videos():\n",
    "    all_data = []\n",
    "    for key, data in table.scan():\n",
    "        views = data.get(b'metrics:views')\n",
    "        if views is not None:\n",
    "            all_data.append((key.decode('utf-8'), int(float(views))))\n",
    "    top_videos = sorted(all_data, key=lambda x: x[1], reverse=True)[:10]\n",
    "    return top_videos"
   ]
  },
  {
   "cell_type": "code",
   "execution_count": null,
   "id": "30fda00c-a262-4940-8705-65162c1885b7",
   "metadata": {},
   "outputs": [],
   "source": [
    "# Query 2: Average Rating by Category\n",
    "def avg_rating_by_category():\n",
    "    category_ratings = {}\n",
    "    for key, data in table.scan():\n",
    "        category = data.get(b'video_info:category')\n",
    "        rating = data.get(b'metrics:rating')\n",
    "        if category and rating:\n",
    "            category = category.decode('utf-8')\n",
    "            try:\n",
    "                rating = float(rating)\n",
    "            except ValueError:\n",
    "                continue  # Skip invalid rating values\n",
    "            if category not in category_ratings:\n",
    "                category_ratings[category] = {'sum': 0, 'count': 0}\n",
    "            category_ratings[category]['sum'] += rating\n",
    "            category_ratings[category]['count'] += 1\n",
    "    \n",
    "    avg_ratings = {cat: category_ratings[cat]['sum'] / category_ratings[cat]['count'] for cat in category_ratings}\n",
    "    return avg_ratings"
   ]
  },
  {
   "cell_type": "code",
   "execution_count": null,
   "id": "97237005-6cd5-4b41-8f89-f51f6e5b7f16",
   "metadata": {},
   "outputs": [],
   "source": [
    "# Query 3: Videos with Ratings Greater Than 4.5\n",
    "def videos_with_high_ratings():\n",
    "    high_rated_videos = []\n",
    "    for key, data in table.scan():\n",
    "        rating = data.get(b'metrics:rating')\n",
    "        if rating is not None and float(rating) > 4.5:\n",
    "            high_rated_videos.append((key.decode('utf-8'), float(rating)))\n",
    "    return high_rated_videos"
   ]
  },
  {
   "cell_type": "code",
   "execution_count": null,
   "id": "3f9ce367-3cda-47ab-b700-10b9447641b3",
   "metadata": {},
   "outputs": [],
   "source": [
    "# Query 4: Average Views per Category\n",
    "def avg_views_per_category():\n",
    "    category_views = {}\n",
    "    for key, data in table.scan():\n",
    "        category = data.get(b'video_info:category')\n",
    "        views = data.get(b'metrics:views')\n",
    "        if category and views:\n",
    "            category = category.decode('utf-8')\n",
    "            try:\n",
    "                views = float(views)\n",
    "            except ValueError:\n",
    "                continue  # Skip invalid view values\n",
    "            if category not in category_views:\n",
    "                category_views[category] = {'sum': 0, 'count': 0}\n",
    "            category_views[category]['sum'] += views\n",
    "            category_views[category]['count'] += 1\n",
    "    \n",
    "    avg_views = {cat: category_views[cat]['sum'] / category_views[cat]['count'] for cat in category_views}\n",
    "    return avg_views"
   ]
  },
  {
   "cell_type": "code",
   "execution_count": null,
   "id": "cfa71082-cdb4-40da-a28d-a6ec1ab1f23a",
   "metadata": {},
   "outputs": [],
   "source": [
    "# Query 5: Top 5 Uploaders by Number of Videos\n",
    "def top_5_uploaders_by_videos():\n",
    "    uploader_count = {}\n",
    "    for key, data in table.scan():\n",
    "        uploader = data.get(b'video_info:uploader')\n",
    "        if uploader:\n",
    "            uploader = uploader.decode('utf-8')\n",
    "            if uploader not in uploader_count:\n",
    "                uploader_count[uploader] = 0\n",
    "            uploader_count[uploader] += 1\n",
    "    \n",
    "    top_uploaders = sorted(uploader_count.items(), key=lambda x: x[1], reverse=True)[:5]\n",
    "    return top_uploaders"
   ]
  },
  {
   "cell_type": "code",
   "execution_count": null,
   "id": "a4f9ceaa-552a-46a0-9927-e35e039b606f",
   "metadata": {},
   "outputs": [],
   "source": [
    "# Query 6: Top 5 Longest Videos\n",
    "def top_5_longest_videos():\n",
    "    all_data = []\n",
    "    for key, data in table.scan():\n",
    "        duration = data.get(b'metrics:length')\n",
    "        if duration is not None:\n",
    "            all_data.append((key.decode('utf-8'), float(duration)))\n",
    "    longest_videos = sorted(all_data, key=lambda x: x[1], reverse=True)[:5]\n",
    "    return longest_videos"
   ]
  },
  {
   "cell_type": "code",
   "execution_count": null,
   "id": "f3ea78cc-0db5-4896-82d3-3a447f4e20e1",
   "metadata": {},
   "outputs": [],
   "source": [
    "# Query 7: Total Comments Count by Category\n",
    "def total_comments_by_category():\n",
    "    category_comments = {}\n",
    "    for key, data in table.scan():\n",
    "        category = data.get(b'video_info:category')\n",
    "        comments = data.get(b'metrics:comments_count')\n",
    "        if category and comments:\n",
    "            category = category.decode('utf-8')\n",
    "            try:\n",
    "                comments = int(float(comments))\n",
    "            except ValueError:\n",
    "                continue  # Skip invalid comment values\n",
    "            if category not in category_comments:\n",
    "                category_comments[category] = 0\n",
    "            category_comments[category] += comments\n",
    "    \n",
    "    return category_comments"
   ]
  },
  {
   "cell_type": "code",
   "execution_count": null,
   "id": "44a27df3-e0f9-497a-a9f2-0ea600450f17",
   "metadata": {},
   "outputs": [],
   "source": [
    "# Query 8: Total Number of Videos by Each Uploader\n",
    "def total_videos_by_uploader():\n",
    "    uploader_count = {}\n",
    "    for key, data in table.scan():\n",
    "        uploader = data.get(b'video_info:uploader')\n",
    "        if uploader:\n",
    "            uploader = uploader.decode('utf-8')\n",
    "            if uploader not in uploader_count:\n",
    "                uploader_count[uploader] = 0\n",
    "            uploader_count[uploader] += 1\n",
    "    \n",
    "    return uploader_count"
   ]
  },
  {
   "cell_type": "code",
   "execution_count": null,
   "id": "88c31c98-012e-4cfe-b202-2f7f25096e4d",
   "metadata": {},
   "outputs": [],
   "source": [
    "# Query 9: Average Video Length by Category\n",
    "def avg_video_length_by_category():\n",
    "    category_length = {}\n",
    "    for key, data in table.scan():\n",
    "        category = data.get(b'video_info:category')\n",
    "        duration = data.get(b'metrics:length')\n",
    "        if category and duration:\n",
    "            category = category.decode('utf-8')\n",
    "            try:\n",
    "                duration = float(duration)\n",
    "            except ValueError:\n",
    "                continue  # Skip invalid length values\n",
    "            if category not in category_length:\n",
    "                category_length[category] = {'sum': 0, 'count': 0}\n",
    "            category_length[category]['sum'] += duration\n",
    "            category_length[category]['count'] += 1\n",
    "    \n",
    "    avg_length = {cat: category_length[cat]['sum'] / category_length[cat]['count'] for cat in category_length}\n",
    "    return avg_length"
   ]
  },
  {
   "cell_type": "code",
   "execution_count": null,
   "id": "0097d1a0-dd42-4791-a0a5-ca5234a88015",
   "metadata": {},
   "outputs": [],
   "source": [
    "# Query 10: Videos with High Views but Low Ratings\n",
    "def videos_high_views_low_ratings():\n",
    "    videos = []\n",
    "    for key, data in table.scan():\n",
    "        views = data.get(b'metrics:views')\n",
    "        rating = data.get(b'metrics:rating')\n",
    "        if views and rating:\n",
    "            views = float(views)\n",
    "            rating = float(rating)\n",
    "            if views > 100000 and rating < 3.0:\n",
    "                videos.append((key.decode('utf-8'), views, rating))\n",
    "    return videos"
   ]
  },
  {
   "cell_type": "code",
   "execution_count": null,
   "id": "6034fdce-d3aa-4725-b291-5f48b5a61211",
   "metadata": {},
   "outputs": [],
   "source": [
    "# Query 11: Relationship Between Video Length and Views\n",
    "def video_length_vs_views():\n",
    "    length_views = {}\n",
    "    \n",
    "    for key, data in table.scan():\n",
    "        duration = data.get(b'metrics:length')\n",
    "        views = data.get(b'metrics:views')\n",
    "        if duration and views:\n",
    "            try:\n",
    "                duration = float(duration)\n",
    "                views = float(views)\n",
    "            except ValueError:\n",
    "                continue  # Skip invalid values\n",
    "            if duration not in length_views:\n",
    "                length_views[duration] = {'sum': 0, 'count': 0}\n",
    "            length_views[duration]['sum'] += views\n",
    "            length_views[duration]['count'] += 1\n",
    "    \n",
    "    # Calculate the average views for each video length\n",
    "    avg_length_vs_views = {length: length_views[length]['sum'] / length_views[length]['count'] for length in length_views}\n",
    "    return avg_length_vs_views"
   ]
  },
  {
   "cell_type": "markdown",
   "id": "1628aab1-f30b-4d29-badb-c9f0eebbabf1",
   "metadata": {},
   "source": [
    "### **Top 10 Most Viwed Videos**"
   ]
  },
  {
   "cell_type": "code",
   "execution_count": null,
   "id": "e96f2594-9a44-4225-85d6-48dc5ce04306",
   "metadata": {},
   "outputs": [],
   "source": [
    "top_10_most_viewed, exec_time = measure_execution_time(top_10_most_viewed_videos, \"top_10_most_viewed\")\n",
    "print(\"Top 10 Most Viewed Videos:\", top_10_most_viewed)"
   ]
  },
  {
   "cell_type": "markdown",
   "id": "a5e408f9-c4d8-4d3d-b253-bdf2c0febbec",
   "metadata": {},
   "source": [
    "### **Average Rating by Category**"
   ]
  },
  {
   "cell_type": "code",
   "execution_count": null,
   "id": "75626b9e-8aef-486e-a68b-ef9953f6ba89",
   "metadata": {},
   "outputs": [],
   "source": [
    "avg_rating_cat, exec_time = measure_execution_time(avg_rating_by_category, \"avg_rating_by_category\")\n",
    "print(\"Average Rating by Category:\", list(avg_rating_cat.items()))"
   ]
  },
  {
   "cell_type": "markdown",
   "id": "c7ecd58d-b971-4472-b94b-67eb44c15965",
   "metadata": {},
   "source": [
    "### **Videos with Ratings Greater Than 4.5**"
   ]
  },
  {
   "cell_type": "code",
   "execution_count": null,
   "id": "0f40ee81-8019-4295-80b8-de86d7211c65",
   "metadata": {},
   "outputs": [],
   "source": [
    "high_rated_videos, exec_time = measure_execution_time(videos_with_high_ratings, \"high_rated_videos\")\n",
    "print(\"Videos with High Ratings:\", high_rated_videos[:5])"
   ]
  },
  {
   "cell_type": "markdown",
   "id": "965371eb-8547-4d20-906f-cf53e89aeea2",
   "metadata": {},
   "source": [
    "### **Average Views per Category**"
   ]
  },
  {
   "cell_type": "code",
   "execution_count": null,
   "id": "443952b0-4cc0-4c0f-b714-a3c16689ed03",
   "metadata": {},
   "outputs": [],
   "source": [
    "avg_views_cat, exec_time = measure_execution_time(avg_views_per_category, \"avg_views_per_category\")\n",
    "print(\"Average Views per Category:\", list(avg_views_cat.items()))"
   ]
  },
  {
   "cell_type": "markdown",
   "id": "22d57eeb-e3d1-48c5-8297-4b53b3905c35",
   "metadata": {},
   "source": [
    "### **Top 5 Uploaders by Number of Videos**"
   ]
  },
  {
   "cell_type": "code",
   "execution_count": null,
   "id": "d8b8525d-1e63-4d32-ae69-04e59de88441",
   "metadata": {},
   "outputs": [],
   "source": [
    "top_uploaders, exec_time = measure_execution_time(top_5_uploaders_by_videos, \"top_5_uploaders\")\n",
    "print(\"Top 5 Uploaders by Number of Videos:\", top_uploaders)"
   ]
  },
  {
   "cell_type": "markdown",
   "id": "42de3240-b9d0-4729-accc-274d2a90a6fc",
   "metadata": {},
   "source": [
    "### **Top 5 Longest Videos**"
   ]
  },
  {
   "cell_type": "code",
   "execution_count": null,
   "id": "fed32251-8f1a-4c5e-82c9-95bf0fc5d93e",
   "metadata": {},
   "outputs": [],
   "source": [
    "longest_videos, exec_time = measure_execution_time(top_5_longest_videos, \"top_5_longest_videos\")\n",
    "print(\"Top 5 Longest Videos:\", longest_videos)"
   ]
  },
  {
   "cell_type": "markdown",
   "id": "7cb5f6ef-b724-442f-a502-df25eb9a5c79",
   "metadata": {},
   "source": [
    "### **Total Comments Count by Category**"
   ]
  },
  {
   "cell_type": "code",
   "execution_count": null,
   "id": "d73fdb49-9b31-4fcb-a669-1da2dd706f96",
   "metadata": {},
   "outputs": [],
   "source": [
    "total_comments_cat, exec_time = measure_execution_time(total_comments_by_category, \"total_comments_by_category\")\n",
    "print(\"Total Comments by Category:\", list(total_comments_cat.items()))"
   ]
  },
  {
   "cell_type": "markdown",
   "id": "86b106ee-f60b-493b-b475-250d11a7b091",
   "metadata": {},
   "source": [
    "### **Total Number of Videos by Each Uploader**"
   ]
  },
  {
   "cell_type": "code",
   "execution_count": null,
   "id": "a81eb06c-58dc-4731-ad6e-3ee01b19dc18",
   "metadata": {},
   "outputs": [],
   "source": [
    "total_videos_uploader, exec_time = measure_execution_time(total_videos_by_uploader, \"total_videos_by_uploader\")\n",
    "print(\"Total Videos by Each Uploader:\", list(total_videos_uploader.items())[:5])"
   ]
  },
  {
   "cell_type": "markdown",
   "id": "d04c68ac-dc25-4544-83b8-e366cc3a5bd3",
   "metadata": {},
   "source": [
    "### **Average Video Length by Category**"
   ]
  },
  {
   "cell_type": "code",
   "execution_count": null,
   "id": "043a5026-59c3-4b7f-b65a-bc805e046ae1",
   "metadata": {},
   "outputs": [],
   "source": [
    "avg_length_cat, exec_time = measure_execution_time(avg_video_length_by_category, \"avg_video_length_by_category\")\n",
    "print(\"Average Video Length by Category:\", list(avg_length_cat.items()))"
   ]
  },
  {
   "cell_type": "markdown",
   "id": "84122248-611d-4f29-8b5e-a4236efe1a7b",
   "metadata": {},
   "source": [
    "### **Videos with High Views but Low Ratings**"
   ]
  },
  {
   "cell_type": "code",
   "execution_count": null,
   "id": "410c610c-d661-4bff-a974-591938036c56",
   "metadata": {},
   "outputs": [],
   "source": [
    "videos_high_views_low_ratings, exec_time = measure_execution_time(videos_high_views_low_ratings, \"videos_high_views_low_ratings\")\n",
    "print(\"Videos with High Views but Low Ratings:\", videos_high_views_low_ratings[:5])"
   ]
  },
  {
   "cell_type": "markdown",
   "id": "eb5cfb23-38c2-4d50-aea1-1ed4a6596047",
   "metadata": {},
   "source": [
    "### **Video Length vs Views**"
   ]
  },
  {
   "cell_type": "code",
   "execution_count": null,
   "id": "b074f592-7949-43cb-ba51-3e72bec0b401",
   "metadata": {},
   "outputs": [],
   "source": [
    "length_vs_views, exec_time = measure_execution_time(video_length_vs_views, \"length_vs_views\")\n",
    "print(\"Length vs Views:\", list(length_vs_views.items())[:5])"
   ]
  },
  {
   "cell_type": "code",
   "execution_count": null,
   "id": "6535603f-8bcd-41f4-bb67-183006af07a6",
   "metadata": {},
   "outputs": [],
   "source": [
    "connection.close()"
   ]
  },
  {
   "cell_type": "markdown",
   "id": "3bf12014-d50c-4ef6-8d0e-666866acad59",
   "metadata": {},
   "source": [
    "# **MongoDB**"
   ]
  },
  {
   "cell_type": "code",
   "execution_count": null,
   "id": "1152cf4f-40fd-4feb-80da-2a030f60433f",
   "metadata": {},
   "outputs": [],
   "source": [
    "import pymongo\n",
    "from pymongo import MongoClient\n",
    "from datetime import datetime\n",
    "import pprint\n",
    "import pandas as pd\n",
    "import ast"
   ]
  },
  {
   "cell_type": "code",
   "execution_count": null,
   "id": "de21c825-96c7-4b5c-ad0f-06cb6b261455",
   "metadata": {},
   "outputs": [],
   "source": [
    "print(\"Pymongo version:\", pymongo.__version__)"
   ]
  },
  {
   "cell_type": "code",
   "execution_count": null,
   "id": "0dd00f0b-9487-4770-ba9b-456410bfc184",
   "metadata": {},
   "outputs": [],
   "source": [
    "csv_file_path = '/path/to/formatted_data.csv'\n",
    "df = pd.read_csv(csv_file_path)"
   ]
  },
  {
   "cell_type": "markdown",
   "id": "b464b4e7-ae51-48e5-aa68-f10288ba7979",
   "metadata": {},
   "source": [
    "##### Terminal command : mongoimport --type csv --db YT --collection 2007 --headerline --file /path/to/formatted_data.csv"
   ]
  },
  {
   "cell_type": "code",
   "execution_count": null,
   "id": "6604d308-1cc6-4a14-901d-c64b1ee78bed",
   "metadata": {},
   "outputs": [],
   "source": [
    "client = MongoClient(\"mongodb://localhost:27017/\")"
   ]
  },
  {
   "cell_type": "code",
   "execution_count": null,
   "id": "571f4f8a-eaae-4955-a9d8-c39124e251e9",
   "metadata": {},
   "outputs": [],
   "source": [
    "db = client[\"YT\"]\n",
    "collection = db[\"2007\"]"
   ]
  },
  {
   "cell_type": "code",
   "execution_count": null,
   "id": "ddf51a02-db82-4200-a77e-f0767ec2012b",
   "metadata": {},
   "outputs": [],
   "source": [
    "data = df.to_dict(orient=\"records\") \n",
    "collection.insert_many(data)"
   ]
  },
  {
   "cell_type": "code",
   "execution_count": null,
   "id": "7c85c3da-69a7-485f-ad52-44c71f9a0ba1",
   "metadata": {},
   "outputs": [],
   "source": [
    "data = list(collection.find().limit(4))"
   ]
  },
  {
   "cell_type": "code",
   "execution_count": null,
   "id": "6f035265-f912-4dcb-8564-5530d03e1b50",
   "metadata": {},
   "outputs": [],
   "source": [
    "df = pd.DataFrame(data)\n",
    "print(df.head(4))"
   ]
  },
  {
   "cell_type": "code",
   "execution_count": null,
   "id": "5ab1da36-a9a9-4fd1-afd8-2ae5bea7de0c",
   "metadata": {},
   "outputs": [],
   "source": [
    "# Function to convert 'Related Videos' field from string to list\n",
    "for doc in collection.find({\"Related Videos\": {\"$type\": \"string\"}}):\n",
    "    related_videos_str = doc[\"Related Videos\"]\n",
    "    try:\n",
    "        # Convert the string to a list\n",
    "        related_videos_list = ast.literal_eval(related_videos_str)\n",
    "        \n",
    "        # Update the document in MongoDB with the list format\n",
    "        collection.update_one(\n",
    "            {\"_id\": doc[\"_id\"]},\n",
    "            {\"$set\": {\"Related Videos\": related_videos_list}}\n",
    "        )\n",
    "    except (SyntaxError, ValueError) as e:\n",
    "        print(f\"Skipping document {doc['_id']} due to conversion error: {e}\")\n",
    "\n",
    "print(\"Conversion complete. 'Related Videos' should now be an array.\")"
   ]
  },
  {
   "cell_type": "code",
   "execution_count": null,
   "id": "d59296c4-e8d6-4c52-af2a-072350f88260",
   "metadata": {},
   "outputs": [],
   "source": [
    "query_results = []"
   ]
  },
  {
   "cell_type": "code",
   "execution_count": null,
   "id": "d7ee5cdc-56d5-442d-9c91-fab40a235857",
   "metadata": {},
   "outputs": [],
   "source": [
    "def execute_query(query_func):\n",
    "    start_time = datetime.now()\n",
    "    result = query_func()\n",
    "    end_time = datetime.now()\n",
    "    execution_time = (end_time - start_time).total_seconds()\n",
    "    \n",
    "    # Append the query result with execution time to the list, but store only the first 3 records\n",
    "    query_results.append({\n",
    "        \"query\": query_func.__name__,\n",
    "        \"execution_time\": execution_time,\n",
    "        \"result\": result[:3]  # Only include first 3 records\n",
    "    })\n",
    "    \n",
    "    # Print the execution time and the first 3 records from the result\n",
    "    print(f\"Executed {query_func.__name__} in {execution_time} seconds.\")\n",
    "    pprint.pprint(result[:3])  # Display only the first 3 records\n",
    "    print(\"\\n\" + \"-\" * 50 + \"\\n\")"
   ]
  },
  {
   "cell_type": "code",
   "execution_count": null,
   "id": "e8a810e6-3338-43f2-8575-f751d9e2d4dd",
   "metadata": {},
   "outputs": [],
   "source": [
    "def top_10_most_viewed_videos():\n",
    "    # Set all fields to 1 to include them in the result\n",
    "    return list(collection.find(\n",
    "        {},  # No filter, retrieves all documents\n",
    "        {\n",
    "            \"Video ID\": 1,\n",
    "            \"Uploader\": 1,\n",
    "            \"Age\": 1,\n",
    "            \"Category\": 1,\n",
    "            \"Length\": 1,\n",
    "            \"Views\": 1,\n",
    "            \"Rating\": 1,\n",
    "            \"Ratings Count\": 1,\n",
    "            \"Comments Count\": 1,\n",
    "            \"Related Videos\": 1,\n",
    "            \"_id\": 1  # Include the MongoDB ID field\n",
    "        }\n",
    "    ).sort(\"Views\", -1).limit(10))"
   ]
  },
  {
   "cell_type": "code",
   "execution_count": null,
   "id": "12a080da-8716-4d93-8ea0-5d9278369260",
   "metadata": {},
   "outputs": [],
   "source": [
    "def average_rating_by_category():\n",
    "    pipeline = [\n",
    "        {\"$group\": {\"_id\": \"$Category\", \"average_rating\": {\"$avg\": \"$Rating\"}}}\n",
    "    ]\n",
    "    return list(collection.aggregate(pipeline))"
   ]
  },
  {
   "cell_type": "code",
   "execution_count": null,
   "id": "72802fc5-d3c1-41b4-8bc4-574db970de12",
   "metadata": {},
   "outputs": [],
   "source": [
    "def videos_with_ratings_greater_than_4_5():\n",
    "    return list(collection.find({\"Rating\": {\"$gt\": 4.5}}))"
   ]
  },
  {
   "cell_type": "code",
   "execution_count": null,
   "id": "9dbbefce-1f36-4658-8279-252dea9c63e2",
   "metadata": {},
   "outputs": [],
   "source": [
    "def average_views_per_category():\n",
    "    pipeline = [\n",
    "        {\"$group\": {\"_id\": \"$Category\", \"average_views\": {\"$avg\": \"$Views\"}}}\n",
    "    ]\n",
    "    return list(collection.aggregate(pipeline))"
   ]
  },
  {
   "cell_type": "code",
   "execution_count": null,
   "id": "e8387510-3423-46f5-9c31-ec7e5a29beac",
   "metadata": {},
   "outputs": [],
   "source": [
    "def top_5_uploaders_by_number_of_videos():\n",
    "    pipeline = [\n",
    "        {\"$group\": {\"_id\": \"$Uploader\", \"video_count\": {\"$sum\": 1}}},\n",
    "        {\"$sort\": {\"video_count\": -1}},\n",
    "        {\"$limit\": 5}\n",
    "    ]\n",
    "    return list(collection.aggregate(pipeline))"
   ]
  },
  {
   "cell_type": "code",
   "execution_count": null,
   "id": "623d56a9-17eb-4c3b-a44e-8b52c3c4e9ea",
   "metadata": {},
   "outputs": [],
   "source": [
    "def top_5_longest_videos():\n",
    "    return list(collection.find().sort(\"Length\", -1).limit(5))"
   ]
  },
  {
   "cell_type": "code",
   "execution_count": null,
   "id": "5563e5ff-da8e-4042-b50a-23c5313bf6e8",
   "metadata": {},
   "outputs": [],
   "source": [
    "def total_comments_count_by_category():\n",
    "    pipeline = [\n",
    "        {\"$group\": {\"_id\": \"$Category\", \"total_comments\": {\"$sum\": \"$Comments Count\"}}}\n",
    "    ]\n",
    "    return list(collection.aggregate(pipeline))"
   ]
  },
  {
   "cell_type": "code",
   "execution_count": null,
   "id": "8bbcb414-5054-4cf9-99ea-a4ef1286cf5d",
   "metadata": {},
   "outputs": [],
   "source": [
    "def total_number_of_videos_by_each_uploader():\n",
    "    pipeline = [\n",
    "        {\"$group\": {\"_id\": \"$Uploader\", \"total_videos\": {\"$sum\": 1}}}\n",
    "    ]\n",
    "    return list(collection.aggregate(pipeline))"
   ]
  },
  {
   "cell_type": "code",
   "execution_count": null,
   "id": "e27ceb8f-c491-494d-852a-0b6d9073dc1c",
   "metadata": {},
   "outputs": [],
   "source": [
    "def average_video_length_by_category():\n",
    "    pipeline = [\n",
    "        {\"$group\": {\"_id\": \"$Category\", \"average_length\": {\"$avg\": \"$Length\"}}}\n",
    "    ]\n",
    "    return list(collection.aggregate(pipeline))"
   ]
  },
  {
   "cell_type": "code",
   "execution_count": null,
   "id": "87ed30c5-a821-4264-b1d0-34dcb7fcc2b1",
   "metadata": {},
   "outputs": [],
   "source": [
    "def videos_with_high_views_but_low_ratings():\n",
    "    return list(collection.find(\n",
    "        {\"Views\": {\"$gt\": 100000}, \"Rating\": {\"$lt\": 3.0}},\n",
    "        {\n",
    "            \"Video ID\": 1,\n",
    "            \"Uploader\": 1,\n",
    "            \"Category\": 1,\n",
    "            \"Views\": 1,\n",
    "            \"Rating\": 1,\n",
    "            \"Length\": 1\n",
    "        }\n",
    "    ))"
   ]
  },
  {
   "cell_type": "code",
   "execution_count": null,
   "id": "3ef87597-8fba-4397-a05d-e5aa363875c7",
   "metadata": {},
   "outputs": [],
   "source": [
    "def video_length_vs_views():\n",
    "    pipeline = [\n",
    "        {\"$match\": {\"Length\": {\"$ne\": None}, \"Views\": {\"$ne\": None}}},  # Filter out documents with missing Length or Views\n",
    "        {\"$group\": {\n",
    "            \"_id\": \"$Length\",\n",
    "            \"total_views\": {\"$sum\": \"$Views\"},\n",
    "            \"view_count\": {\"$sum\": 1}\n",
    "        }},\n",
    "        {\"$project\": {\n",
    "            \"_id\": 0,\n",
    "            \"Length\": \"$_id\",\n",
    "            \"average_views\": {\"$divide\": [\"$total_views\", \"$view_count\"]}\n",
    "        }}\n",
    "    ]\n",
    "    \n",
    "    return list(collection.aggregate(pipeline))"
   ]
  },
  {
   "cell_type": "code",
   "execution_count": null,
   "id": "bac13d3f-7805-4da0-b408-8cccaa635c0a",
   "metadata": {},
   "outputs": [],
   "source": [
    "execute_query(top_10_most_viewed_videos)"
   ]
  },
  {
   "cell_type": "code",
   "execution_count": null,
   "id": "df2736d5-ff2f-4a5c-971d-73b7b8eeee18",
   "metadata": {},
   "outputs": [],
   "source": [
    "execute_query(average_rating_by_category)"
   ]
  },
  {
   "cell_type": "code",
   "execution_count": null,
   "id": "04ea6136-7da1-441d-875a-b95744f5b74a",
   "metadata": {},
   "outputs": [],
   "source": [
    "execute_query(videos_with_ratings_greater_than_4_5)"
   ]
  },
  {
   "cell_type": "code",
   "execution_count": null,
   "id": "7e658272-baeb-4b18-ada8-d258f50eab5f",
   "metadata": {},
   "outputs": [],
   "source": [
    "execute_query(average_views_per_category)"
   ]
  },
  {
   "cell_type": "code",
   "execution_count": null,
   "id": "22b60d5e-8fa5-4ac1-95cb-096e77c7b494",
   "metadata": {},
   "outputs": [],
   "source": [
    "execute_query(top_5_uploaders_by_number_of_videos)"
   ]
  },
  {
   "cell_type": "code",
   "execution_count": null,
   "id": "147dc8b4-e111-45cf-83d6-63b14c6f27ff",
   "metadata": {},
   "outputs": [],
   "source": [
    "execute_query(top_5_longest_videos)"
   ]
  },
  {
   "cell_type": "code",
   "execution_count": null,
   "id": "0c159a67-d5f3-4dce-b464-7568ab7f7416",
   "metadata": {},
   "outputs": [],
   "source": [
    "execute_query(total_comments_count_by_category)"
   ]
  },
  {
   "cell_type": "code",
   "execution_count": null,
   "id": "39eba070-6521-448e-bee0-756c909e874c",
   "metadata": {},
   "outputs": [],
   "source": [
    "execute_query(total_number_of_videos_by_each_uploader)"
   ]
  },
  {
   "cell_type": "code",
   "execution_count": null,
   "id": "01224434-3c5a-4534-84f0-e2c573e2fe6f",
   "metadata": {},
   "outputs": [],
   "source": [
    "execute_query(average_video_length_by_category)"
   ]
  },
  {
   "cell_type": "code",
   "execution_count": null,
   "id": "3482b33a-b3fd-4a5a-83f6-59382fd46db3",
   "metadata": {},
   "outputs": [],
   "source": [
    "execute_query(videos_with_high_views_but_low_ratings)"
   ]
  },
  {
   "cell_type": "code",
   "execution_count": null,
   "id": "5b709f78-4a4d-4c8c-8966-62bdd5018cac",
   "metadata": {},
   "outputs": [],
   "source": [
    "execute_query(video_length_vs_views)"
   ]
  },
  {
   "cell_type": "code",
   "execution_count": null,
   "id": "8ec53c2f-853f-44e4-8623-96ac337d4550",
   "metadata": {},
   "outputs": [],
   "source": [
    "print(\"Execution Times:\")\n",
    "for result in query_results:\n",
    "    print(f\"{result['query']}: {result['execution_time']} seconds\")"
   ]
  },
  {
   "cell_type": "code",
   "execution_count": null,
   "id": "3640ed67-2ae4-4e1b-acb9-52776ab87d59",
   "metadata": {},
   "outputs": [],
   "source": [
    "print(collection.find_one({}, {\n",
    "    \"Video ID\": 1,\n",
    "    \"Uploader\": 1,\n",
    "    \"Age\": 1,\n",
    "    \"Category\": 1,\n",
    "    \"Length\": 1,\n",
    "    \"Views\": 1,\n",
    "    \"Rating\": 1,\n",
    "    \"Ratings Count\": 1,\n",
    "    \"Comments Count\": 1,\n",
    "    \"Related Videos\": 1,\n",
    "    \"_id\": 1\n",
    "}))"
   ]
  },
  {
   "cell_type": "code",
   "execution_count": null,
   "id": "90793a14-b8e3-4841-869f-0417b2e7b2a2",
   "metadata": {},
   "outputs": [],
   "source": [
    "client.close()"
   ]
  }
 ],
 "metadata": {
  "kernelspec": {
   "display_name": "Python 3 (ipykernel)",
   "language": "python",
   "name": "python3"
  },
  "language_info": {
   "codemirror_mode": {
    "name": "ipython",
    "version": 3
   },
   "file_extension": ".py",
   "mimetype": "text/x-python",
   "name": "python",
   "nbconvert_exporter": "python",
   "pygments_lexer": "ipython3",
   "version": "3.11.5"
  }
 },
 "nbformat": 4,
 "nbformat_minor": 5
}
